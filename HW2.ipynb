{
 "cells": [
  {
   "cell_type": "markdown",
   "id": "f53c03e0-c8c7-40bb-a814-c4de469821b7",
   "metadata": {},
   "source": [
    "# Question 1\n",
    "\n",
    "For this question use the World Bank Data for the following indicators. Use [wbgapi](https://pypi.org/project/wbgapi/) for getting the data.\n",
    "\n",
    "* [Literacy rate, adult female (SE.ADT.LITR.FE.ZS)](https://data.worldbank.org/indicator/SE.ADT.LITR.FE.ZS)\n",
    "* [Labor force, female (SL.TLF.TOTL.FE.ZS)](https://data.worldbank.org/indicator/SL.TLF.TOTL.FE.ZS)\n",
    "* [Poverty headcount ratio at national poverty lines (SI.POV.NAHC)](https://data.worldbank.org/indicator/SI.POV.NAHC)\n",
    "* [Current health expenditure per capita (SH.XPD.CHEX.PC.CD)](https://data.worldbank.org/indicator/SH.XPD.CHEX.PC.CD)\n",
    "* [GDP per capita (NY.GDP.PCAP.CD)](https://data.worldbank.org/indicator/NY.GDP.PCAP.CD)\n",
    "* [Mortality rate, under-5 (SH.DYN.MORT)](https://data.worldbank.org/indicator/SH.DYN.MORT)\n",
    "\n",
    "\n",
    "Using the [statsmodels](https://www.statsmodels.org/stable/index.html) library write the best linear regression model using child mortality as the dependent variable while the rest are considered as independent variables. Pay particular attention to the fact that the order of the variables put into the model significantly impacts the performance of the model. Choose the best model by considering\n",
    "\n",
    "* with the minimum number of variables and their interactions,\n",
    "* with the optimal ordering of the independent variables and their interactions,\n",
    "* $R^2$-score of the model,\n",
    "* statistical significance of the model coefficients,\n",
    "* ANOVA analysis of the model.\n"
   ]
  },
  {
   "cell_type": "code",
   "execution_count": null,
   "id": "01bfd781-552b-4005-bc26-f3d3a7008e2e",
   "metadata": {},
   "outputs": [],
   "source": []
  },
  {
   "cell_type": "markdown",
   "id": "1af3d05f-26e8-4e21-8cc8-5df66f63f49e",
   "metadata": {},
   "source": [
    "# Question 2\n",
    "\n",
    "For this question use Yahoo's Finance API for the following tickers:\n",
    "\n",
    "* Gold futures (GC=F)\n",
    "* Silver futures (SI=F)\n",
    "* Copper futures (HG=F)\n",
    "* Platinum futures (PL=F)\n",
    "\n",
    "1. Write the best linear regression model that explains gold futures closing prices in terms of opening prices of gold, silver, copper, and platinum futures.\n",
    "2. Repeat the same for silver, copper and platinum prices.\n",
    "3. Compare the models you obtained in Steps 1 and 2. Which model is better? How do you decide? Explain."
   ]
  },
  {
   "cell_type": "code",
   "execution_count": null,
   "id": "a3e5876d-f2b7-4a10-957b-a1c7d0fec178",
   "metadata": {},
   "outputs": [],
   "source": []
  },
  {
   "cell_type": "markdown",
   "id": "e6784ded-5ebb-492d-a244-62c7d42ec457",
   "metadata": {},
   "source": [
    "# Question 3\n",
    "\n",
    "1. Write a function that takes a ticker symbol and returns a pandas dataframe that for each day puts a True when closing price is higher than opening price, a False when closing price is lower than opening price.\n",
    "2. Write a logistic regression that predicts the time series you obtain from Step 1 for the closing prices of gold futures against the opening prices of gold, silver, copper, and platinum prices.\n",
    "3. Repeat the same for silver, copper, and platinum prices.\n",
    "4. Compare the models you obtained from Steps 2 and 3. Decide which is the best model, and explain your reasoning."
   ]
  },
  {
   "cell_type": "code",
   "execution_count": null,
   "id": "e67d2161-b332-47d0-8f16-b829520d55bd",
   "metadata": {},
   "outputs": [],
   "source": []
  },
  {
   "cell_type": "code",
   "execution_count": null,
   "id": "edaa6bdf-7a5e-42cd-9c4d-515279da167b",
   "metadata": {},
   "outputs": [],
   "source": []
  }
 ],
 "metadata": {
  "kernelspec": {
   "display_name": "Python 3 (ipykernel)",
   "language": "python",
   "name": "python3"
  },
  "language_info": {
   "codemirror_mode": {
    "name": "ipython",
    "version": 3
   },
   "file_extension": ".py",
   "mimetype": "text/x-python",
   "name": "python",
   "nbconvert_exporter": "python",
   "pygments_lexer": "ipython3",
   "version": "3.10.8"
  }
 },
 "nbformat": 4,
 "nbformat_minor": 5
}
