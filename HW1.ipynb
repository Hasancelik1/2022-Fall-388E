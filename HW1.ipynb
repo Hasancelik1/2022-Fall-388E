{
 "cells": [
  {
   "cell_type": "markdown",
   "id": "82588623-fb98-4755-a48d-23ee261ec31a",
   "metadata": {},
   "source": [
    "# Homework #1\n",
    "\n",
    "Remember: You must ingest the data to your notebooks directly from the data server. Also, don't write the same code with modifications to do similar things over and over again. Write a function."
   ]
  },
  {
   "cell_type": "markdown",
   "id": "5b934b08-1bfb-414b-a6af-089e1243f854",
   "metadata": {},
   "source": [
    "## Question 1\n",
    "\n",
    "Use [World Bank's Data Service](https://data.worldbank.org/) to retrieve\n",
    "\n",
    "* Literacy rates of women (percentage of females ages 15 and above)\n",
    "* Child mortality rate, under 5 year old. (per 1,000 live births)\n",
    "* Gini index (Economic Inequality)\n",
    "\n",
    "1. Plot each dataset for Turkey from earliest date available until this year.\n",
    "2. Plot the same data for Greece, Bulgaria, Romania, Poland, Syria and Iran for the same periods. \n",
    "3. Do a scatter plot of female literacy rate against child mortality rate for Turkey. Do you see a relation? Which direction do you think the relation works?\n",
    "4. Do a scatter plot of female literacy rate against gini index for Turkey. Do you see a relation? Which direction do you think the relation works?\n",
    "5. Do a scatter plot of child mortality rate against the gini index for Turkey. Do you see a relation? Which direction do you think the relation works?"
   ]
  },
  {
   "cell_type": "code",
   "execution_count": null,
   "id": "3b0d0bb2-1f44-4cbc-b429-3aa0e19225c5",
   "metadata": {},
   "outputs": [],
   "source": []
  },
  {
   "cell_type": "markdown",
   "id": "d7df43b5-f6db-48e2-b69a-5b7872322f44",
   "metadata": {},
   "source": [
    "## Question 2\n",
    "\n",
    "Use Istanbul Municipality Data Server to retrieve the data on [Rail Transportation Data](https://data.ibb.gov.tr/dataset/yas-grubuna-gore-rayli-sistemler-istasyon-bazli-yolcu-ve-yolculuk-sayilari).\n",
    "\n",
    "1. Explore the dataset and explain each column.\n",
    "2. Notice that the longitude and lattitude data is not recorded correctly. However, it is easy to correct the data. Explain how you would correct it and then write a function to correct it.\n",
    "3. Notice that the passenger information is split according to age brackets. Find the total number of passengers for each station ~~in each month~~ and store it in a pandas dataframe. Then plot it on a map of Istanbul. Use disks of different sizes depending on the total number of passengers.\n",
    "4. Write a function that accepts the age bracket as input (<20, 20-30, 30-60, 60+, unknown) and returns a probability an array of maps (dictionaries) of the form\n",
    "\n",
    "    {Station Name: probability that the specific age bracket uses the station}\n",
    "5. The return value for the function you wrote above is a probability distribution on the set of stations, i.e. the usage patterns of different age brackets. Figure out which stations are favored by each age bracket.\n",
    "6. How do we check that the usage patterns for different age brackets are different? Use your idea to write a code to check for these differences."
   ]
  },
  {
   "cell_type": "code",
   "execution_count": null,
   "id": "b97bb9d3-aaa7-4647-b4a0-e9f6d5f72f11",
   "metadata": {},
   "outputs": [],
   "source": []
  },
  {
   "cell_type": "markdown",
   "id": "ffbd7c40-b9c3-4df6-a637-d38bb44f0f1f",
   "metadata": {},
   "source": [
    "# Question 3\n",
    "\n",
    "For this question use Yahoo Finance API via [yfinance](https://pypi.org/project/yfinance/) library. Retrieve the data for Microsoft [MSFT], Apple [AAPL] and NASDAQ-100 [NDX]. from January 1, 2000.\n",
    "\n",
    "1. Calculate the log of each series, and then calculate the first derivative of the result. What you got is called the [log-return](https://core.ac.uk/download/pdf/161062652.pdf) of each series. \n",
    "2. Merge the series you obtain in Step 1 into a single pandas dataframe.\n",
    "3. Plot the histograms of results you obtained above (use 10 bins).\n",
    "4. Plot all three series in a single plot to compare. Do you see a relationship? \n",
    "5. How do we see if there are any correlations between these series? What is the statistically correct way of testing it? Find the right statistical test and measure all three correlations."
   ]
  },
  {
   "cell_type": "code",
   "execution_count": null,
   "id": "283c3ae9-a7fa-4264-ac2f-e975f8f0619d",
   "metadata": {},
   "outputs": [],
   "source": []
  }
 ],
 "metadata": {
  "kernelspec": {
   "display_name": "Python 3 (ipykernel)",
   "language": "python",
   "name": "python3"
  },
  "language_info": {
   "codemirror_mode": {
    "name": "ipython",
    "version": 3
   },
   "file_extension": ".py",
   "mimetype": "text/x-python",
   "name": "python",
   "nbconvert_exporter": "python",
   "pygments_lexer": "ipython3",
   "version": "3.10.7"
  }
 },
 "nbformat": 4,
 "nbformat_minor": 5
}
